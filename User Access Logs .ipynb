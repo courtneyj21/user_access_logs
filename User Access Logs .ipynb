{
 "cells": [
  {
   "cell_type": "code",
   "execution_count": 7,
   "metadata": {},
   "outputs": [
    {
     "data": {
      "text/html": [
       "<div>\n",
       "<style scoped>\n",
       "    .dataframe tbody tr th:only-of-type {\n",
       "        vertical-align: middle;\n",
       "    }\n",
       "\n",
       "    .dataframe tbody tr th {\n",
       "        vertical-align: top;\n",
       "    }\n",
       "\n",
       "    .dataframe thead th {\n",
       "        text-align: right;\n",
       "    }\n",
       "</style>\n",
       "<table border=\"1\" class=\"dataframe\">\n",
       "  <thead>\n",
       "    <tr style=\"text-align: right;\">\n",
       "      <th></th>\n",
       "      <th>employee_number</th>\n",
       "      <th>first_name</th>\n",
       "      <th>last_name</th>\n",
       "      <th>email</th>\n",
       "      <th>title</th>\n",
       "    </tr>\n",
       "  </thead>\n",
       "  <tbody>\n",
       "    <tr>\n",
       "      <th>0</th>\n",
       "      <td>EMP003037</td>\n",
       "      <td>Juliana</td>\n",
       "      <td>Burbudge</td>\n",
       "      <td>juliana.burbudge@consultants.com</td>\n",
       "      <td>Director of Sales</td>\n",
       "    </tr>\n",
       "    <tr>\n",
       "      <th>1</th>\n",
       "      <td>EMP003045</td>\n",
       "      <td>Lizzie</td>\n",
       "      <td>Blue</td>\n",
       "      <td>lizzie.blue@consultants.com</td>\n",
       "      <td>Sales Assistant</td>\n",
       "    </tr>\n",
       "    <tr>\n",
       "      <th>2</th>\n",
       "      <td>EMP003051</td>\n",
       "      <td>Marjory</td>\n",
       "      <td>Selcraig</td>\n",
       "      <td>marjory.selcraig@consultants.com</td>\n",
       "      <td>Sales Assistant</td>\n",
       "    </tr>\n",
       "    <tr>\n",
       "      <th>3</th>\n",
       "      <td>EMP003068</td>\n",
       "      <td>Aguste</td>\n",
       "      <td>O'Connor</td>\n",
       "      <td>aguste.o'connor@consultants.com</td>\n",
       "      <td>Sales Assistant</td>\n",
       "    </tr>\n",
       "    <tr>\n",
       "      <th>4</th>\n",
       "      <td>EMP003097</td>\n",
       "      <td>Clemens</td>\n",
       "      <td>Kopman</td>\n",
       "      <td>clemens.kopman@consultants.com</td>\n",
       "      <td>Account Manager</td>\n",
       "    </tr>\n",
       "  </tbody>\n",
       "</table>\n",
       "</div>"
      ],
      "text/plain": [
       "  employee_number first_name last_name                             email  \\\n",
       "0       EMP003037    Juliana  Burbudge  juliana.burbudge@consultants.com   \n",
       "1       EMP003045     Lizzie      Blue       lizzie.blue@consultants.com   \n",
       "2       EMP003051    Marjory  Selcraig  marjory.selcraig@consultants.com   \n",
       "3       EMP003068     Aguste  O'Connor   aguste.o'connor@consultants.com   \n",
       "4       EMP003097    Clemens    Kopman    clemens.kopman@consultants.com   \n",
       "\n",
       "               title  \n",
       "0  Director of Sales  \n",
       "1    Sales Assistant  \n",
       "2    Sales Assistant  \n",
       "3    Sales Assistant  \n",
       "4    Account Manager  "
      ]
     },
     "execution_count": 7,
     "metadata": {},
     "output_type": "execute_result"
    }
   ],
   "source": [
    "import pandas as pd \n",
    "\n",
    "employees_df= pd.read_csv('data/employees.csv')\n",
    "employees_df.head()\n",
    "\n"
   ]
  },
  {
   "cell_type": "code",
   "execution_count": 8,
   "metadata": {},
   "outputs": [
    {
     "data": {
      "text/html": [
       "<div>\n",
       "<style scoped>\n",
       "    .dataframe tbody tr th:only-of-type {\n",
       "        vertical-align: middle;\n",
       "    }\n",
       "\n",
       "    .dataframe tbody tr th {\n",
       "        vertical-align: top;\n",
       "    }\n",
       "\n",
       "    .dataframe thead th {\n",
       "        text-align: right;\n",
       "    }\n",
       "</style>\n",
       "<table border=\"1\" class=\"dataframe\">\n",
       "  <thead>\n",
       "    <tr style=\"text-align: right;\">\n",
       "      <th></th>\n",
       "      <th>id</th>\n",
       "      <th>access_level</th>\n",
       "    </tr>\n",
       "  </thead>\n",
       "  <tbody>\n",
       "    <tr>\n",
       "      <th>0</th>\n",
       "      <td>17263</td>\n",
       "      <td>Account Admin</td>\n",
       "    </tr>\n",
       "    <tr>\n",
       "      <th>1</th>\n",
       "      <td>10275</td>\n",
       "      <td>Contract Entry</td>\n",
       "    </tr>\n",
       "    <tr>\n",
       "      <th>2</th>\n",
       "      <td>7568</td>\n",
       "      <td>Contract Entry</td>\n",
       "    </tr>\n",
       "    <tr>\n",
       "      <th>3</th>\n",
       "      <td>21986</td>\n",
       "      <td>Account Admin</td>\n",
       "    </tr>\n",
       "    <tr>\n",
       "      <th>4</th>\n",
       "      <td>20614</td>\n",
       "      <td>Account Admin</td>\n",
       "    </tr>\n",
       "  </tbody>\n",
       "</table>\n",
       "</div>"
      ],
      "text/plain": [
       "      id    access_level\n",
       "0  17263   Account Admin\n",
       "1  10275  Contract Entry\n",
       "2   7568  Contract Entry\n",
       "3  21986   Account Admin\n",
       "4  20614   Account Admin"
      ]
     },
     "execution_count": 8,
     "metadata": {},
     "output_type": "execute_result"
    }
   ],
   "source": [
    "system_access_df= pd.read_csv('data/system_access.csv')\n",
    "system_access_df.head()"
   ]
  },
  {
   "cell_type": "code",
   "execution_count": null,
   "metadata": {},
   "outputs": [],
   "source": []
  }
 ],
 "metadata": {
  "kernelspec": {
   "display_name": "Python 3",
   "language": "python",
   "name": "python3"
  },
  "language_info": {
   "codemirror_mode": {
    "name": "ipython",
    "version": 3
   },
   "file_extension": ".py",
   "mimetype": "text/x-python",
   "name": "python",
   "nbconvert_exporter": "python",
   "pygments_lexer": "ipython3",
   "version": "3.8.3"
  }
 },
 "nbformat": 4,
 "nbformat_minor": 4
}
